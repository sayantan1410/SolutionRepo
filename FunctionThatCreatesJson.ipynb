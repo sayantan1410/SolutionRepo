{
 "cells": [
  {
   "cell_type": "markdown",
   "metadata": {
    "id": "L3sSQe9py3d3"
   },
   "source": [
    "### Colab Setup\n",
    "\n"
   ]
  },
  {
   "cell_type": "code",
   "execution_count": 1,
   "metadata": {
    "colab": {
     "base_uri": "https://localhost:8080/"
    },
    "id": "32Bp-8IWwqIt",
    "outputId": "e905b483-0954-4bfb-d60e-3dafa53bcabd"
   },
   "outputs": [
    {
     "name": "stdout",
     "output_type": "stream",
     "text": [
      "Mounted at /content/drive\n"
     ]
    }
   ],
   "source": [
    "from google.colab import drive\n",
    "drive.mount('/content/drive')"
   ]
  },
  {
   "cell_type": "code",
   "execution_count": 2,
   "metadata": {
    "colab": {
     "base_uri": "https://localhost:8080/"
    },
    "id": "Q6xcKhxpyfdZ",
    "outputId": "d27a147a-c42c-4e15-8334-dfdab2a58919"
   },
   "outputs": [
    {
     "name": "stdout",
     "output_type": "stream",
     "text": [
      "\u001b[0m\u001b[01;34mdrive\u001b[0m/  \u001b[01;34msample_data\u001b[0m/\n"
     ]
    }
   ],
   "source": [
    "ls"
   ]
  },
  {
   "cell_type": "code",
   "execution_count": 3,
   "metadata": {
    "colab": {
     "base_uri": "https://localhost:8080/"
    },
    "id": "5vhn8lSlyhBk",
    "outputId": "eddaa9f6-d42f-46b7-8ec0-216b2739256e"
   },
   "outputs": [
    {
     "name": "stdout",
     "output_type": "stream",
     "text": [
      "/content/drive/MyDrive/NLP problems\n"
     ]
    }
   ],
   "source": [
    "cd drive/MyDrive/NLP\\ problems"
   ]
  },
  {
   "cell_type": "code",
   "execution_count": 4,
   "metadata": {
    "colab": {
     "base_uri": "https://localhost:8080/"
    },
    "id": "BIlolYUyyptd",
    "outputId": "a7085a10-4f28-499a-82dc-cb20128a5965"
   },
   "outputs": [
    {
     "name": "stdout",
     "output_type": "stream",
     "text": [
      "'Airline Booking.csv'   students.json\n",
      " checking.json          Untitled0.ipynb\n",
      "'IMDB Dataset.csv'      Untitled1.ipynb\n",
      "'NLP work.ipynb'       'Worksheet in Openstream-InterviewQ 2.xlsx'\n"
     ]
    }
   ],
   "source": [
    "ls"
   ]
  },
  {
   "cell_type": "markdown",
   "metadata": {
    "id": "d5FkmNRHzBnb"
   },
   "source": [
    "### The main function"
   ]
  },
  {
   "cell_type": "code",
   "execution_count": 64,
   "metadata": {
    "id": "-S_DDQGQ9PRI"
   },
   "outputs": [],
   "source": [
    "import json\n",
    "import pandas as pd\n",
    "def return_age(parameter):\n",
    "  worksheet = pd.read_excel('Worksheet in Openstream-InterviewQ 2.xlsx')\n",
    "  students = worksheet.loc[(worksheet.Age > parameter)]\n",
    "  students.drop('Address',axis=1,inplace=True)\n",
    "  students.rename(columns={'RollNo':'ID'},inplace=True)\n",
    "  new_dict = {}\n",
    "  Stu = []\n",
    "  for ind in students.index:\n",
    "    new_dict['ID'] = str(students['ID'][ind])\n",
    "    new_dict['Name'] = str(students['Name'][ind])\n",
    "    new_dict['Age'] = int(students['Age'][ind])\n",
    "    string = \"\"\n",
    "    new_dict['Subject'] = []\n",
    "    for x in students['Subject'][ind]:\n",
    "      if x is not ',':\n",
    "        string = string + x\n",
    "      else:\n",
    "        new_dict['Subject'].append({'Name':string})\n",
    "        string = \"\"\n",
    "    new_dict['Subject'].append({'Name':string})\n",
    "    Stu.append(new_dict)\n",
    "    new_dict = {}\n",
    "  final_dict = {'Student':Stu}\n",
    "  return final_dict\n"
   ]
  },
  {
   "cell_type": "code",
   "execution_count": 71,
   "metadata": {
    "colab": {
     "base_uri": "https://localhost:8080/"
    },
    "id": "G6Vq4dja6dM3",
    "outputId": "535c187e-d0f6-4479-f9bb-70840f8ad960"
   },
   "outputs": [
    {
     "name": "stdout",
     "output_type": "stream",
     "text": [
      "{\n",
      "    \"Student\": [\n",
      "        {\n",
      "            \"ID\": \"1\",\n",
      "            \"Name\": \"Student 1\",\n",
      "            \"Age\": 20,\n",
      "            \"Subject\": [\n",
      "                {\n",
      "                    \"Name\": \"Subject 1\"\n",
      "                },\n",
      "                {\n",
      "                    \"Name\": \" Subject 2\"\n",
      "                }\n",
      "            ]\n",
      "        },\n",
      "        {\n",
      "            \"ID\": \"2\",\n",
      "            \"Name\": \"Student 2\",\n",
      "            \"Age\": 21,\n",
      "            \"Subject\": [\n",
      "                {\n",
      "                    \"Name\": \"Subject 3\"\n",
      "                },\n",
      "                {\n",
      "                    \"Name\": \" Subject 4\"\n",
      "                }\n",
      "            ]\n",
      "        },\n",
      "        {\n",
      "            \"ID\": \"3\",\n",
      "            \"Name\": \"Student 3\",\n",
      "            \"Age\": 22,\n",
      "            \"Subject\": [\n",
      "                {\n",
      "                    \"Name\": \"Subject 2\"\n",
      "                },\n",
      "                {\n",
      "                    \"Name\": \" Subject 3\"\n",
      "                }\n",
      "            ]\n",
      "        }\n",
      "    ]\n",
      "}\n"
     ]
    }
   ],
   "source": [
    "value = return_age(18)\n",
    "json_object = json.dumps(value,indent = 4) \n",
    "print(json_object)\n"
   ]
  },
  {
   "cell_type": "code",
   "execution_count": 70,
   "metadata": {
    "id": "VCLB3phd7bUm"
   },
   "outputs": [],
   "source": [
    "with open(\"final_sample.json\", \"w\") as outfile:\n",
    "    outfile.write(json_object)"
   ]
  }
 ],
 "metadata": {
  "colab": {
   "name": "Untitled0.ipynb",
   "provenance": []
  },
  "kernelspec": {
   "display_name": "Python 3 (ipykernel)",
   "language": "python",
   "name": "python3"
  },
  "language_info": {
   "codemirror_mode": {
    "name": "ipython",
    "version": 3
   },
   "file_extension": ".py",
   "mimetype": "text/x-python",
   "name": "python",
   "nbconvert_exporter": "python",
   "pygments_lexer": "ipython3",
   "version": "3.9.7"
  }
 },
 "nbformat": 4,
 "nbformat_minor": 1
}
